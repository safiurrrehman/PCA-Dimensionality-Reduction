{
  "nbformat": 4,
  "nbformat_minor": 0,
  "metadata": {
    "kernelspec": {
      "display_name": "Python 3",
      "language": "python",
      "name": "python3"
    },
    "language_info": {
      "codemirror_mode": {
        "name": "ipython",
        "version": 3
      },
      "file_extension": ".py",
      "mimetype": "text/x-python",
      "name": "python",
      "nbconvert_exporter": "python",
      "pygments_lexer": "ipython3",
      "version": "3.6.5"
    },
    "colab": {
      "name": "Project Wine.ipynb",
      "provenance": []
    }
  },
  "cells": [
    {
      "cell_type": "markdown",
      "metadata": {
        "id": "u57T9BS5Bjs0",
        "colab_type": "text"
      },
      "source": [
        "# Dimensionality Reduction by Extracting Principal Components\n",
        "\n",
        "[Wine](https://archive.ics.uci.edu/ml/machine-learning-databases/wine/)"
      ]
    },
    {
      "cell_type": "code",
      "metadata": {
        "id": "Ma0IaY6HBjs1",
        "colab_type": "code",
        "colab": {},
        "outputId": "49c29189-37db-4a8b-c8d1-6fb9854108ac"
      },
      "source": [
        "import numpy as np\n",
        "import matplotlib.pyplot as plt\n",
        "%matplotlib inline\n",
        "import pandas as pd\n",
        "import seaborn as sns\n",
        "from sklearn.model_selection import train_test_split\n",
        "from sklearn.preprocessing import StandardScaler\n",
        "from sklearn.decomposition import PCA\n",
        "sns.set()\n",
        "df = pd.read_csv('wine.csv')\n",
        "X = df.iloc[:, 1:]\n",
        "y = df['class']\n",
        "\n",
        "X_train, X_test, y_train, y_test = train_test_split(X, y, test_size=0.2,\n",
        "                                                    random_state=42)\n",
        "\n",
        "sc = StandardScaler()\n",
        "sc.fit(X_train)\n",
        "X_train_sc = sc.transform(X_train)\n",
        "X_test_sc = sc.transform(X_test)\n",
        "pca = PCA(n_components=2)\n",
        "pca.fit(X_train_sc)\n",
        "pca = PCA(n_components=None)\n",
        "pca.fit(X_train_sc)\n",
        "pca.transform(X_train_sc)\n",
        "print(\"----Individual----\\n\\n\")\n",
        "print(np.round(pca.explained_variance_ratio_, 3))\n",
        "pd.DataFrame(np.round(pca.components_, 3), columns=X.columns).T\n",
        "print(\"\\n\\n----Cummulative----\\n\\n\")\n",
        "print (np.round(np.cumsum(pca.explained_variance_ratio_),4))\n",
        "plt.plot(np.cumsum(pca.explained_variance_ratio_)*100.)\n",
        "plt.xlabel('No. of components')\n",
        "plt.ylabel('Cum. explained variance');"
      ],
      "execution_count": null,
      "outputs": [
        {
          "output_type": "stream",
          "text": [
            "----Individual----\n",
            "\n",
            "\n",
            "[0.359 0.187 0.116 0.074 0.067 0.049 0.042 0.027 0.023 0.019 0.017 0.013\n",
            " 0.008]\n",
            "\n",
            "\n",
            "----Cummulative----\n",
            "\n",
            "\n",
            "[0.359  0.5459 0.662  0.7357 0.8022 0.8508 0.8927 0.9196 0.9431 0.9619\n",
            " 0.9791 0.9917 1.    ]\n"
          ],
          "name": "stdout"
        },
        {
          "output_type": "display_data",
          "data": {
            "image/png": "[encoded data removed]",
            "text/plain": [
              "<Figure size 432x288 with 1 Axes>"
            ]
          },
          "metadata": {
            "tags": []
          }
        }
      ]
    }
  ]
}